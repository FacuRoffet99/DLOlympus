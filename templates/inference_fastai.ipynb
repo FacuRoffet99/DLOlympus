{
 "cells": [
  {
   "cell_type": "code",
   "execution_count": null,
   "id": "91205aab",
   "metadata": {},
   "outputs": [],
   "source": [
    "# Paths\n",
    "try:\n",
    "  import google.colab\n",
    "  google.colab.drive.mount('/content/drive')\n",
    "  root = 'path_to_main_drive_folder/'\n",
    "except:\n",
    "  root= 'path_to_main_local_folder/'\n",
    "data_folder = root+'path_to_inference_data'\n",
    "model_path = root+'path_to_model'\n",
    "\n",
    "pretrained = \n",
    "bs = "
   ]
  },
  {
   "cell_type": "code",
   "execution_count": null,
   "id": "14d9f819",
   "metadata": {},
   "outputs": [],
   "source": [
    "# Define as in training\n",
    "block = \n",
    "model = \n",
    "loss = "
   ]
  },
  {
   "cell_type": "code",
   "execution_count": null,
   "id": "3e848864",
   "metadata": {},
   "outputs": [],
   "source": [
    "from fastai.vision.all import *\n",
    "from DLOlympus.inference.inference_fastai import FastAIInferencer\n",
    "\n",
    "inferencer = FastAIInferencer(model_path)\n",
    "inferencer.init(block, model, bs, pretrained=pretrained, loss_func=loss)"
   ]
  },
  {
   "cell_type": "code",
   "execution_count": null,
   "id": "9bf3453d",
   "metadata": {},
   "outputs": [],
   "source": [
    "items = # Get items from 'data_folder'"
   ]
  },
  {
   "cell_type": "code",
   "execution_count": null,
   "id": "795c2172",
   "metadata": {},
   "outputs": [],
   "source": [
    "preds = inferencer.process(items)"
   ]
  }
 ],
 "metadata": {
  "kernelspec": {
   "display_name": "projects",
   "language": "python",
   "name": "python3"
  },
  "language_info": {
   "name": "python",
   "version": "3.12.9"
  }
 },
 "nbformat": 4,
 "nbformat_minor": 5
}
