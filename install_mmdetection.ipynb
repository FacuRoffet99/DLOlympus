{
 "cells": [
  {
   "cell_type": "markdown",
   "id": "16ee2699",
   "metadata": {},
   "source": [
    "MMDetection is very hard to correctly install because of weird dependencies mismatches (believe me, I have wasted a lot of time with this). The biggest problem is that the latest version of MMDetection is not compatible with the latest version of mmcv, which in turn is not compatible with the latest version of torch.\n",
    "My cuda version is 11.8, so the steps below are specific for that case. If you are unlucky and have an older cuda version, my best advice is to only change that on the torch install command (without changing torch main version) and hope for the best."
   ]
  },
  {
   "cell_type": "code",
   "execution_count": null,
   "id": "faa7d8e8",
   "metadata": {},
   "outputs": [],
   "source": [
    "ENV_NAME = '' # Name of the environment that will be created\n",
    "MMDET_SAVE_FOLDER = '' # Folder where MMDetection will be cloned"
   ]
  },
  {
   "cell_type": "code",
   "execution_count": null,
   "id": "f61dc066",
   "metadata": {},
   "outputs": [],
   "source": [
    "# EXACT STEPS TO CORRECTLY INSTALL MMDETECTION, DON'T CHANGE OR BAD THINGS WILL PROBABLY HAPPEN ☠️☠️☠️\n",
    "# PLEASE INSTALL CONDA FIRST\n",
    "\n",
    "# 1) Create environment with python 3.11.6\n",
    "!conda create --name {ENV_NAME} python=3.11.6\n",
    "\n",
    "# 2) Install dependencies\n",
    "!pip install -U openmim\n",
    "!pip install --upgrade setuptools\n",
    "!conda install pytorch==2.1.0 torchvision==0.16.0 torchaudio==2.1.0 pytorch-cuda=11.8 -c pytorch -c nvidia -y\n",
    "!mim install \"mmengine==0.10.3\"\n",
    "!mim install \"mmcv==2.1.0\"\n",
    "\n",
    "# 3) Clone and install MMDetection\n",
    "%cd {MMDET_SAVE_FOLDER}\n",
    "!git clone https://github.com/open-mmlab/mmdetection.git\n",
    "%cd mmdetection\n",
    "!pip install -v -e ."
   ]
  },
  {
   "cell_type": "code",
   "execution_count": null,
   "id": "aa8dd11d",
   "metadata": {},
   "outputs": [],
   "source": [
    "# 4) Downgrade numpy (not sure if necessary, use if needed)\n",
    "!pip install --force-reinstall -v \"numpy==1.25.2\""
   ]
  }
 ],
 "metadata": {
  "language_info": {
   "name": "python"
  }
 },
 "nbformat": 4,
 "nbformat_minor": 5
}
