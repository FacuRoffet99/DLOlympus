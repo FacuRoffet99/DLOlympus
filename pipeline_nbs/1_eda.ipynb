{
 "cells": [
  {
   "cell_type": "markdown",
   "id": "a1de1b0d",
   "metadata": {},
   "source": [
    "# Imports"
   ]
  },
  {
   "cell_type": "code",
   "execution_count": null,
   "id": "430528ef",
   "metadata": {},
   "outputs": [],
   "source": [
    "import wandb\n",
    "import tempfile\n",
    "import pandas as pd\n",
    "\n",
    "from fastai.data.transforms import get_image_files\n",
    "\n",
    "import project_config as pc"
   ]
  },
  {
   "cell_type": "markdown",
   "id": "ffa6b669",
   "metadata": {},
   "source": [
    "# Paths"
   ]
  },
  {
   "cell_type": "code",
   "execution_count": 2,
   "id": "538bf779",
   "metadata": {},
   "outputs": [],
   "source": [
    "# Local paths\n",
    "root = 'C:/Users/Facu/.fastai/'\n",
    "data_folder = root+'data/oxford-iiit-pet/'\n",
    "images_folder = data_folder+'images/'"
   ]
  },
  {
   "cell_type": "markdown",
   "id": "f0b01554",
   "metadata": {},
   "source": [
    "# Data"
   ]
  },
  {
   "cell_type": "code",
   "execution_count": 3,
   "id": "89ac8260",
   "metadata": {},
   "outputs": [
    {
     "data": {
      "application/vnd.microsoft.datawrangler.viewer.v0+json": {
       "columns": [
        {
         "name": "index",
         "rawType": "int64",
         "type": "integer"
        },
        {
         "name": "file_path",
         "rawType": "object",
         "type": "string"
        },
        {
         "name": "group",
         "rawType": "object",
         "type": "string"
        },
        {
         "name": "label_breed",
         "rawType": "object",
         "type": "string"
        },
        {
         "name": "label_animal",
         "rawType": "object",
         "type": "string"
        }
       ],
       "ref": "f5bccb08-bcf5-4034-8600-fce6613088d1",
       "rows": [
        [
         "0",
         "images/Abyssinian_1.jpg",
         "1",
         "Abyssinian",
         "cat"
        ],
        [
         "1",
         "images/Abyssinian_10.jpg",
         "10",
         "Abyssinian",
         "cat"
        ],
        [
         "2",
         "images/Abyssinian_100.jpg",
         "100",
         "Abyssinian",
         "cat"
        ],
        [
         "3",
         "images/Abyssinian_101.jpg",
         "101",
         "Abyssinian",
         "cat"
        ],
        [
         "4",
         "images/Abyssinian_102.jpg",
         "102",
         "Abyssinian",
         "cat"
        ],
        [
         "5",
         "images/Abyssinian_103.jpg",
         "103",
         "Abyssinian",
         "cat"
        ],
        [
         "6",
         "images/Abyssinian_104.jpg",
         "104",
         "Abyssinian",
         "cat"
        ],
        [
         "7",
         "images/Abyssinian_105.jpg",
         "105",
         "Abyssinian",
         "cat"
        ],
        [
         "8",
         "images/Abyssinian_106.jpg",
         "106",
         "Abyssinian",
         "cat"
        ],
        [
         "9",
         "images/Abyssinian_107.jpg",
         "107",
         "Abyssinian",
         "cat"
        ],
        [
         "10",
         "images/Abyssinian_108.jpg",
         "108",
         "Abyssinian",
         "cat"
        ],
        [
         "11",
         "images/Abyssinian_109.jpg",
         "109",
         "Abyssinian",
         "cat"
        ],
        [
         "12",
         "images/Abyssinian_11.jpg",
         "11",
         "Abyssinian",
         "cat"
        ],
        [
         "13",
         "images/Abyssinian_110.jpg",
         "110",
         "Abyssinian",
         "cat"
        ],
        [
         "14",
         "images/Abyssinian_111.jpg",
         "111",
         "Abyssinian",
         "cat"
        ],
        [
         "15",
         "images/Abyssinian_112.jpg",
         "112",
         "Abyssinian",
         "cat"
        ],
        [
         "16",
         "images/Abyssinian_113.jpg",
         "113",
         "Abyssinian",
         "cat"
        ],
        [
         "17",
         "images/Abyssinian_114.jpg",
         "114",
         "Abyssinian",
         "cat"
        ],
        [
         "18",
         "images/Abyssinian_115.jpg",
         "115",
         "Abyssinian",
         "cat"
        ],
        [
         "19",
         "images/Abyssinian_116.jpg",
         "116",
         "Abyssinian",
         "cat"
        ],
        [
         "20",
         "images/Abyssinian_117.jpg",
         "117",
         "Abyssinian",
         "cat"
        ],
        [
         "21",
         "images/Abyssinian_118.jpg",
         "118",
         "Abyssinian",
         "cat"
        ],
        [
         "22",
         "images/Abyssinian_119.jpg",
         "119",
         "Abyssinian",
         "cat"
        ],
        [
         "23",
         "images/Abyssinian_12.jpg",
         "12",
         "Abyssinian",
         "cat"
        ],
        [
         "24",
         "images/Abyssinian_120.jpg",
         "120",
         "Abyssinian",
         "cat"
        ],
        [
         "25",
         "images/Abyssinian_121.jpg",
         "121",
         "Abyssinian",
         "cat"
        ],
        [
         "26",
         "images/Abyssinian_122.jpg",
         "122",
         "Abyssinian",
         "cat"
        ],
        [
         "27",
         "images/Abyssinian_123.jpg",
         "123",
         "Abyssinian",
         "cat"
        ],
        [
         "28",
         "images/Abyssinian_124.jpg",
         "124",
         "Abyssinian",
         "cat"
        ],
        [
         "29",
         "images/Abyssinian_125.jpg",
         "125",
         "Abyssinian",
         "cat"
        ],
        [
         "30",
         "images/Abyssinian_126.jpg",
         "126",
         "Abyssinian",
         "cat"
        ],
        [
         "31",
         "images/Abyssinian_127.jpg",
         "127",
         "Abyssinian",
         "cat"
        ],
        [
         "32",
         "images/Abyssinian_128.jpg",
         "128",
         "Abyssinian",
         "cat"
        ],
        [
         "33",
         "images/Abyssinian_129.jpg",
         "129",
         "Abyssinian",
         "cat"
        ],
        [
         "34",
         "images/Abyssinian_13.jpg",
         "13",
         "Abyssinian",
         "cat"
        ],
        [
         "35",
         "images/Abyssinian_130.jpg",
         "130",
         "Abyssinian",
         "cat"
        ],
        [
         "36",
         "images/Abyssinian_131.jpg",
         "131",
         "Abyssinian",
         "cat"
        ],
        [
         "37",
         "images/Abyssinian_132.jpg",
         "132",
         "Abyssinian",
         "cat"
        ],
        [
         "38",
         "images/Abyssinian_133.jpg",
         "133",
         "Abyssinian",
         "cat"
        ],
        [
         "39",
         "images/Abyssinian_134.jpg",
         "134",
         "Abyssinian",
         "cat"
        ],
        [
         "40",
         "images/Abyssinian_135.jpg",
         "135",
         "Abyssinian",
         "cat"
        ],
        [
         "41",
         "images/Abyssinian_136.jpg",
         "136",
         "Abyssinian",
         "cat"
        ],
        [
         "42",
         "images/Abyssinian_137.jpg",
         "137",
         "Abyssinian",
         "cat"
        ],
        [
         "43",
         "images/Abyssinian_138.jpg",
         "138",
         "Abyssinian",
         "cat"
        ],
        [
         "44",
         "images/Abyssinian_139.jpg",
         "139",
         "Abyssinian",
         "cat"
        ],
        [
         "45",
         "images/Abyssinian_14.jpg",
         "14",
         "Abyssinian",
         "cat"
        ],
        [
         "46",
         "images/Abyssinian_140.jpg",
         "140",
         "Abyssinian",
         "cat"
        ],
        [
         "47",
         "images/Abyssinian_141.jpg",
         "141",
         "Abyssinian",
         "cat"
        ],
        [
         "48",
         "images/Abyssinian_142.jpg",
         "142",
         "Abyssinian",
         "cat"
        ],
        [
         "49",
         "images/Abyssinian_143.jpg",
         "143",
         "Abyssinian",
         "cat"
        ]
       ],
       "shape": {
        "columns": 4,
        "rows": 7390
       }
      },
      "text/html": [
       "<div>\n",
       "<style scoped>\n",
       "    .dataframe tbody tr th:only-of-type {\n",
       "        vertical-align: middle;\n",
       "    }\n",
       "\n",
       "    .dataframe tbody tr th {\n",
       "        vertical-align: top;\n",
       "    }\n",
       "\n",
       "    .dataframe thead th {\n",
       "        text-align: right;\n",
       "    }\n",
       "</style>\n",
       "<table border=\"1\" class=\"dataframe\">\n",
       "  <thead>\n",
       "    <tr style=\"text-align: right;\">\n",
       "      <th></th>\n",
       "      <th>file_path</th>\n",
       "      <th>group</th>\n",
       "      <th>label_breed</th>\n",
       "      <th>label_animal</th>\n",
       "    </tr>\n",
       "  </thead>\n",
       "  <tbody>\n",
       "    <tr>\n",
       "      <th>0</th>\n",
       "      <td>images/Abyssinian_1.jpg</td>\n",
       "      <td>1</td>\n",
       "      <td>Abyssinian</td>\n",
       "      <td>cat</td>\n",
       "    </tr>\n",
       "    <tr>\n",
       "      <th>1</th>\n",
       "      <td>images/Abyssinian_10.jpg</td>\n",
       "      <td>10</td>\n",
       "      <td>Abyssinian</td>\n",
       "      <td>cat</td>\n",
       "    </tr>\n",
       "    <tr>\n",
       "      <th>2</th>\n",
       "      <td>images/Abyssinian_100.jpg</td>\n",
       "      <td>100</td>\n",
       "      <td>Abyssinian</td>\n",
       "      <td>cat</td>\n",
       "    </tr>\n",
       "    <tr>\n",
       "      <th>3</th>\n",
       "      <td>images/Abyssinian_101.jpg</td>\n",
       "      <td>101</td>\n",
       "      <td>Abyssinian</td>\n",
       "      <td>cat</td>\n",
       "    </tr>\n",
       "    <tr>\n",
       "      <th>4</th>\n",
       "      <td>images/Abyssinian_102.jpg</td>\n",
       "      <td>102</td>\n",
       "      <td>Abyssinian</td>\n",
       "      <td>cat</td>\n",
       "    </tr>\n",
       "    <tr>\n",
       "      <th>...</th>\n",
       "      <td>...</td>\n",
       "      <td>...</td>\n",
       "      <td>...</td>\n",
       "      <td>...</td>\n",
       "    </tr>\n",
       "    <tr>\n",
       "      <th>7385</th>\n",
       "      <td>images/yorkshire_terrier_95.jpg</td>\n",
       "      <td>95</td>\n",
       "      <td>yorkshire_terrier</td>\n",
       "      <td>dog</td>\n",
       "    </tr>\n",
       "    <tr>\n",
       "      <th>7386</th>\n",
       "      <td>images/yorkshire_terrier_96.jpg</td>\n",
       "      <td>96</td>\n",
       "      <td>yorkshire_terrier</td>\n",
       "      <td>dog</td>\n",
       "    </tr>\n",
       "    <tr>\n",
       "      <th>7387</th>\n",
       "      <td>images/yorkshire_terrier_97.jpg</td>\n",
       "      <td>97</td>\n",
       "      <td>yorkshire_terrier</td>\n",
       "      <td>dog</td>\n",
       "    </tr>\n",
       "    <tr>\n",
       "      <th>7388</th>\n",
       "      <td>images/yorkshire_terrier_98.jpg</td>\n",
       "      <td>98</td>\n",
       "      <td>yorkshire_terrier</td>\n",
       "      <td>dog</td>\n",
       "    </tr>\n",
       "    <tr>\n",
       "      <th>7389</th>\n",
       "      <td>images/yorkshire_terrier_99.jpg</td>\n",
       "      <td>99</td>\n",
       "      <td>yorkshire_terrier</td>\n",
       "      <td>dog</td>\n",
       "    </tr>\n",
       "  </tbody>\n",
       "</table>\n",
       "<p>7390 rows × 4 columns</p>\n",
       "</div>"
      ],
      "text/plain": [
       "                            file_path group        label_breed label_animal\n",
       "0             images/Abyssinian_1.jpg     1         Abyssinian          cat\n",
       "1            images/Abyssinian_10.jpg    10         Abyssinian          cat\n",
       "2           images/Abyssinian_100.jpg   100         Abyssinian          cat\n",
       "3           images/Abyssinian_101.jpg   101         Abyssinian          cat\n",
       "4           images/Abyssinian_102.jpg   102         Abyssinian          cat\n",
       "...                               ...   ...                ...          ...\n",
       "7385  images/yorkshire_terrier_95.jpg    95  yorkshire_terrier          dog\n",
       "7386  images/yorkshire_terrier_96.jpg    96  yorkshire_terrier          dog\n",
       "7387  images/yorkshire_terrier_97.jpg    97  yorkshire_terrier          dog\n",
       "7388  images/yorkshire_terrier_98.jpg    98  yorkshire_terrier          dog\n",
       "7389  images/yorkshire_terrier_99.jpg    99  yorkshire_terrier          dog\n",
       "\n",
       "[7390 rows x 4 columns]"
      ]
     },
     "execution_count": 3,
     "metadata": {},
     "output_type": "execute_result"
    }
   ],
   "source": [
    "# Gather data from the dataset\n",
    "image_files = [f.relative_to(data_folder).as_posix() for f in get_image_files(images_folder)]\n",
    "labels_breeds = ['_'.join(x.split('.')[0].split('/')[-1].split('_')[:-1]) for x in image_files]\n",
    "labels_animals = ['cat' if l.istitle() else 'dog' for l in labels_breeds]\n",
    "groups = [x.split('.')[0].split('_')[-1] for x in image_files]\n",
    "\t\n",
    "# Combine in a single dataframe\n",
    "df = pd.DataFrame({'file_path': image_files, \n",
    "                   'group': groups, \n",
    "                   'label_breed': labels_breeds, \n",
    "                   'label_animal': labels_animals})\n",
    "df"
   ]
  },
  {
   "cell_type": "markdown",
   "id": "e36b59d8",
   "metadata": {},
   "source": [
    "# Log data and EDA"
   ]
  },
  {
   "cell_type": "code",
   "execution_count": null,
   "id": "0cb71b9e",
   "metadata": {},
   "outputs": [
    {
     "name": "stderr",
     "output_type": "stream",
     "text": [
      "\u001b[34m\u001b[1mwandb\u001b[0m: Currently logged in as: \u001b[33mfacuroffet99\u001b[0m to \u001b[32mhttps://api.wandb.ai\u001b[0m. Use \u001b[1m`wandb login --relogin`\u001b[0m to force relogin\n"
     ]
    },
    {
     "data": {
      "text/html": [
       "Tracking run with wandb version 0.21.1"
      ],
      "text/plain": [
       "<IPython.core.display.HTML object>"
      ]
     },
     "metadata": {},
     "output_type": "display_data"
    },
    {
     "data": {
      "text/html": [
       "Run data is saved locally in <code>C:/Users/Facu/Documents/wandb/logs/wandb\\run-20250821_143158-86i9ro0b</code>"
      ],
      "text/plain": [
       "<IPython.core.display.HTML object>"
      ]
     },
     "metadata": {},
     "output_type": "display_data"
    },
    {
     "data": {
      "text/html": [
       "Syncing run <strong><a href='https://wandb.ai/facuroffet99/DLOlympus/runs/86i9ro0b' target=\"_blank\">charmed-wood-4</a></strong> to <a href='https://wandb.ai/facuroffet99/DLOlympus' target=\"_blank\">Weights & Biases</a> (<a href='https://wandb.me/developer-guide' target=\"_blank\">docs</a>)<br>"
      ],
      "text/plain": [
       "<IPython.core.display.HTML object>"
      ]
     },
     "metadata": {},
     "output_type": "display_data"
    },
    {
     "data": {
      "text/html": [
       " View project at <a href='https://wandb.ai/facuroffet99/DLOlympus' target=\"_blank\">https://wandb.ai/facuroffet99/DLOlympus</a>"
      ],
      "text/plain": [
       "<IPython.core.display.HTML object>"
      ]
     },
     "metadata": {},
     "output_type": "display_data"
    },
    {
     "data": {
      "text/html": [
       " View run at <a href='https://wandb.ai/facuroffet99/DLOlympus/runs/86i9ro0b' target=\"_blank\">https://wandb.ai/facuroffet99/DLOlympus/runs/86i9ro0b</a>"
      ],
      "text/plain": [
       "<IPython.core.display.HTML object>"
      ]
     },
     "metadata": {},
     "output_type": "display_data"
    },
    {
     "name": "stderr",
     "output_type": "stream",
     "text": [
      "\u001b[34m\u001b[1mwandb\u001b[0m: Adding directory to artifact (C:\\Users\\Facu\\.fastai\\data\\oxford-iiit-pet\\images)... Done. 6.6s\n"
     ]
    },
    {
     "data": {
      "text/html": [],
      "text/plain": [
       "<IPython.core.display.HTML object>"
      ]
     },
     "metadata": {},
     "output_type": "display_data"
    },
    {
     "data": {
      "text/html": [
       " View run <strong style=\"color:#cdcd00\">charmed-wood-4</strong> at: <a href='https://wandb.ai/facuroffet99/DLOlympus/runs/86i9ro0b' target=\"_blank\">https://wandb.ai/facuroffet99/DLOlympus/runs/86i9ro0b</a><br> View project at: <a href='https://wandb.ai/facuroffet99/DLOlympus' target=\"_blank\">https://wandb.ai/facuroffet99/DLOlympus</a><br>Synced 5 W&B file(s), 0 media file(s), 7390 artifact file(s) and 0 other file(s)"
      ],
      "text/plain": [
       "<IPython.core.display.HTML object>"
      ]
     },
     "metadata": {},
     "output_type": "display_data"
    },
    {
     "data": {
      "text/html": [
       "Find logs at: <code>C:/Users/Facu/Documents/wandb/logs/wandb\\run-20250821_143158-86i9ro0b\\logs</code>"
      ],
      "text/plain": [
       "<IPython.core.display.HTML object>"
      ]
     },
     "metadata": {},
     "output_type": "display_data"
    }
   ],
   "source": [
    "# Init run\n",
    "run = wandb.init(project=pc.WANDB_PROJECT, \n",
    "\t\t\t\t entity=pc.WANDB_ENTITY, \n",
    "\t\t\t\t dir=pc.WANDB_LOCAL_LOGS_PATH,\n",
    "\t\t\t\t job_type='data_upload')\n",
    "\n",
    "# Create artifact and link data\n",
    "dataset_artifact = wandb.Artifact(pc.DATASET_ARTIFACT_NAME, type='dataset')\n",
    "dataset_artifact.add_dir(images_folder, 'images')\n",
    "\n",
    "# Save dataframe to a temporary file and add it to the artifact\n",
    "with tempfile.TemporaryDirectory() as temp_dir:\n",
    "\tdf.to_csv(temp_dir+'/data.csv', index=False)\n",
    "\tdataset_artifact.add_file(temp_dir+'/data.csv', name='data.csv')\n",
    "\n",
    "# Create table referencing local files\n",
    "table = wandb.Table(columns=['image']+list(df.columns.values))\n",
    "for _, row in df.iterrows():\n",
    "\tlocal_path = data_folder + row['file_path']\n",
    "\ttable.add_data(\n",
    "\t\twandb.Image(local_path),\n",
    "\t\t*row.values\n",
    "\t)\n",
    "dataset_artifact.add(table, 'eda_table')\n",
    "\n",
    "# Log artifact and finish run\n",
    "run.log_artifact(dataset_artifact)\n",
    "run.finish()"
   ]
  }
 ],
 "metadata": {
  "kernelspec": {
   "display_name": "projects",
   "language": "python",
   "name": "python3"
  },
  "language_info": {
   "codemirror_mode": {
    "name": "ipython",
    "version": 3
   },
   "file_extension": ".py",
   "mimetype": "text/x-python",
   "name": "python",
   "nbconvert_exporter": "python",
   "pygments_lexer": "ipython3",
   "version": "3.12.9"
  }
 },
 "nbformat": 4,
 "nbformat_minor": 5
}
