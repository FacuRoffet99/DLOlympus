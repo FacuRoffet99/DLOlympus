{
 "cells": [
  {
   "cell_type": "markdown",
   "id": "a1de1b0d",
   "metadata": {},
   "source": [
    "# Imports"
   ]
  },
  {
   "cell_type": "code",
   "execution_count": null,
   "id": "430528ef",
   "metadata": {},
   "outputs": [],
   "source": [
    "import wandb\n",
    "import tempfile\n",
    "import pandas as pd\n",
    "\n",
    "from fastai.data.transforms import get_image_files\n",
    "\n",
    "import project_config as pc"
   ]
  },
  {
   "cell_type": "markdown",
   "id": "ffa6b669",
   "metadata": {},
   "source": [
    "# Paths"
   ]
  },
  {
   "cell_type": "code",
   "execution_count": 2,
   "id": "538bf779",
   "metadata": {},
   "outputs": [],
   "source": [
    "# Local paths\n",
    "root = 'C:/Users/Facu/.fastai/'\n",
    "data_folder = root+'data/oxford-iiit-pet/'\n",
    "images_folder = data_folder+'images/'"
   ]
  },
  {
   "cell_type": "markdown",
   "id": "f0b01554",
   "metadata": {},
   "source": [
    "# Data"
   ]
  },
  {
   "cell_type": "code",
   "execution_count": null,
   "id": "89ac8260",
   "metadata": {},
   "outputs": [],
   "source": [
    "# Gather data from the dataset\n",
    "image_files = [f.relative_to(data_folder).as_posix() for f in get_image_files(images_folder)]\n",
    "labels_breeds = ['_'.join(x.split('.')[0].split('/')[-1].split('_')[:-1]) for x in image_files]\n",
    "labels_animals = ['cat' if l.istitle() else 'dog' for l in labels_breeds]\n",
    "groups = [x.split('.')[0].split('_')[-1] for x in image_files]\n",
    "\t\n",
    "# Combine in a single dataframe\n",
    "df = pd.DataFrame({'file_path': image_files, \n",
    "                   'group': groups, \n",
    "                   'label_breed': labels_breeds, \n",
    "                   'label_animal': labels_animals})\n",
    "df"
   ]
  },
  {
   "cell_type": "markdown",
   "id": "e36b59d8",
   "metadata": {},
   "source": [
    "# Log data and EDA"
   ]
  },
  {
   "cell_type": "code",
   "execution_count": null,
   "id": "0cb71b9e",
   "metadata": {},
   "outputs": [],
   "source": [
    "# Init run\n",
    "run = wandb.init(project=pc.WANDB_PROJECT, \n",
    "\t\t\t\t entity=pc.WANDB_ENTITY, \n",
    "\t\t\t\t dir=pc.WANDB_LOCAL_LOGS_PATH,\n",
    "\t\t\t\t job_type='data_upload')\n",
    "\n",
    "# Create artifact and link data\n",
    "dataset_artifact = wandb.Artifact(pc.DATASET_ARTIFACT_NAME, type='dataset')\n",
    "dataset_artifact.add_dir(images_folder, 'images')\n",
    "\n",
    "# Save dataframe to a temporary file and add it to the artifact\n",
    "with tempfile.TemporaryDirectory() as temp_dir:\n",
    "\tdf.to_csv(temp_dir+'/data.csv', index=False)\n",
    "\tdataset_artifact.add_file(temp_dir+'/data.csv', name='data.csv')\n",
    "\n",
    "# Create table referencing local files\n",
    "table = wandb.Table(columns=['image']+list(df.columns.values))\n",
    "for _, row in df.iterrows():\n",
    "\tlocal_path = data_folder + row['file_path']\n",
    "\ttable.add_data(\n",
    "\t\twandb.Image(local_path),\n",
    "\t\t*row.values\n",
    "\t)\n",
    "dataset_artifact.add(table, 'eda_table')\n",
    "\n",
    "# Log artifact and finish run\n",
    "run.log_artifact(dataset_artifact)\n",
    "run.finish()"
   ]
  }
 ],
 "metadata": {
  "kernelspec": {
   "display_name": "projects",
   "language": "python",
   "name": "python3"
  },
  "language_info": {
   "codemirror_mode": {
    "name": "ipython",
    "version": 3
   },
   "file_extension": ".py",
   "mimetype": "text/x-python",
   "name": "python",
   "nbconvert_exporter": "python",
   "pygments_lexer": "ipython3",
   "version": "3.12.9"
  }
 },
 "nbformat": 4,
 "nbformat_minor": 5
}
