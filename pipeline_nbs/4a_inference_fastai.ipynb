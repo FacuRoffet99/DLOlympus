{
 "cells": [
  {
   "cell_type": "markdown",
   "id": "3e77b4c9",
   "metadata": {},
   "source": [
    "# Imports"
   ]
  },
  {
   "cell_type": "code",
   "execution_count": 1,
   "id": "bbbe6ab5",
   "metadata": {},
   "outputs": [],
   "source": [
    "import os\n",
    "import wandb\n",
    "import pandas as pd\n",
    "\n",
    "from pathlib import Path\n",
    "\n",
    "import project_config as pc"
   ]
  },
  {
   "cell_type": "markdown",
   "id": "41d9d845",
   "metadata": {},
   "source": [
    "# Retrieve dataset and model"
   ]
  },
  {
   "cell_type": "code",
   "execution_count": 2,
   "id": "75c6fc45",
   "metadata": {},
   "outputs": [
    {
     "name": "stderr",
     "output_type": "stream",
     "text": [
      "\u001b[34m\u001b[1mwandb\u001b[0m: Currently logged in as: \u001b[33mfacuroffet99\u001b[0m to \u001b[32mhttps://api.wandb.ai\u001b[0m. Use \u001b[1m`wandb login --relogin`\u001b[0m to force relogin\n"
     ]
    },
    {
     "data": {
      "text/html": [
       "Tracking run with wandb version 0.21.1"
      ],
      "text/plain": [
       "<IPython.core.display.HTML object>"
      ]
     },
     "metadata": {},
     "output_type": "display_data"
    },
    {
     "data": {
      "text/html": [
       "Run data is saved locally in <code>C:/Users/Facu/Documents/wandb/logs/wandb\\run-20250902_143241-m750xhes</code>"
      ],
      "text/plain": [
       "<IPython.core.display.HTML object>"
      ]
     },
     "metadata": {},
     "output_type": "display_data"
    },
    {
     "data": {
      "text/html": [
       "Syncing run <strong><a href='https://wandb.ai/facuroffet99/DLOlympus/runs/m750xhes' target=\"_blank\">dandy-dragon-74</a></strong> to <a href='https://wandb.ai/facuroffet99/DLOlympus' target=\"_blank\">Weights & Biases</a> (<a href='https://wandb.me/developer-guide' target=\"_blank\">docs</a>)<br>"
      ],
      "text/plain": [
       "<IPython.core.display.HTML object>"
      ]
     },
     "metadata": {},
     "output_type": "display_data"
    },
    {
     "data": {
      "text/html": [
       " View project at <a href='https://wandb.ai/facuroffet99/DLOlympus' target=\"_blank\">https://wandb.ai/facuroffet99/DLOlympus</a>"
      ],
      "text/plain": [
       "<IPython.core.display.HTML object>"
      ]
     },
     "metadata": {},
     "output_type": "display_data"
    },
    {
     "data": {
      "text/html": [
       " View run at <a href='https://wandb.ai/facuroffet99/DLOlympus/runs/m750xhes' target=\"_blank\">https://wandb.ai/facuroffet99/DLOlympus/runs/m750xhes</a>"
      ],
      "text/plain": [
       "<IPython.core.display.HTML object>"
      ]
     },
     "metadata": {},
     "output_type": "display_data"
    },
    {
     "data": {
      "text/html": [],
      "text/plain": [
       "<IPython.core.display.HTML object>"
      ]
     },
     "metadata": {},
     "output_type": "display_data"
    },
    {
     "data": {
      "text/html": [
       " View run <strong style=\"color:#cdcd00\">dandy-dragon-74</strong> at: <a href='https://wandb.ai/facuroffet99/DLOlympus/runs/m750xhes' target=\"_blank\">https://wandb.ai/facuroffet99/DLOlympus/runs/m750xhes</a><br> View project at: <a href='https://wandb.ai/facuroffet99/DLOlympus' target=\"_blank\">https://wandb.ai/facuroffet99/DLOlympus</a><br>Synced 5 W&B file(s), 0 media file(s), 0 artifact file(s) and 0 other file(s)"
      ],
      "text/plain": [
       "<IPython.core.display.HTML object>"
      ]
     },
     "metadata": {},
     "output_type": "display_data"
    },
    {
     "data": {
      "text/html": [
       "Find logs at: <code>C:/Users/Facu/Documents/wandb/logs/wandb\\run-20250902_143241-m750xhes\\logs</code>"
      ],
      "text/plain": [
       "<IPython.core.display.HTML object>"
      ]
     },
     "metadata": {},
     "output_type": "display_data"
    }
   ],
   "source": [
    "# Init run\n",
    "run = wandb.init(project=pc.WANDB_PROJECT,\n",
    "\t\t\t\t entity=pc.WANDB_ENTITY,\n",
    "\t\t\t\t dir=pc.WANDB_LOCAL_LOGS_PATH,\n",
    "\t\t\t\t job_type='inference')\n",
    "\n",
    "# Download latest model version (if not already downloaded)\n",
    "dataset_artifact = run.use_artifact(f'{pc.DATASET_ARTIFACT_NAME}:latest')\n",
    "dataset_dir = pc.WANDB_LOCAL_ARTIFACTS_PATH+Path(dataset_artifact._default_root()).stem\n",
    "if not os.path.exists(dataset_dir):\n",
    "\t_ = dataset_artifact.download(root=dataset_dir)\n",
    "\n",
    "# Download latest model version (if not already downloaded)\n",
    "model_artifact = run.use_artifact('model:latest')\n",
    "model_dir = pc.WANDB_LOCAL_ARTIFACTS_PATH+pc.DATASET_ARTIFACT_NAME+'-'+Path(model_artifact._default_root()).stem\n",
    "if not os.path.exists(model_dir):\n",
    "\t_ = model_artifact.download(root=model_dir)\n",
    "\n",
    "# Finish run\n",
    "run.finish()"
   ]
  },
  {
   "cell_type": "markdown",
   "id": "03d71a90",
   "metadata": {},
   "source": [
    "# Inference"
   ]
  },
  {
   "cell_type": "code",
   "execution_count": 3,
   "id": "a0d0a8fd",
   "metadata": {},
   "outputs": [
    {
     "name": "stderr",
     "output_type": "stream",
     "text": [
      "C:\\Users\\Facu\\Mi unidad\\Librerias\\DLOlympus\\src\\DLOlympus\\fastai\\inference.py:28: UserWarning: List of functions to postprocess outputs not provided, inferring from dataloaders.\n",
      "  warnings.warn('List of functions to postprocess outputs not provided, inferring from dataloaders.', UserWarning)\n",
      "C:\\Users\\Facu\\Mi unidad\\Librerias\\DLOlympus\\src\\DLOlympus\\fastai\\inference.py:35: UserWarning: The number of postprocessing functions given or inferred 2 is less than the number of model outputs 3, identity functions added.\n",
      "  warnings.warn(f'The number of postprocessing functions given or inferred {len(preds_postprocessing_fns)} is less than the number of model outputs {self.n_outputs}, identity functions added.', UserWarning)\n",
      "c:\\Users\\Facu\\miniconda3\\envs\\projects\\Lib\\site-packages\\fastai\\callback\\fp16.py:47: FutureWarning: `torch.cuda.amp.autocast(args...)` is deprecated. Please use `torch.amp.autocast('cuda', args...)` instead.\n",
      "  self.autocast,self.learn.scaler,self.scales = autocast(dtype=dtype),GradScaler(**self.kwargs),L()\n",
      "c:\\Users\\Facu\\miniconda3\\envs\\projects\\Lib\\site-packages\\torch\\amp\\autocast_mode.py:266: UserWarning: User provided device_type of 'cuda', but CUDA is not available. Disabling\n",
      "  warnings.warn(\n",
      "c:\\Users\\Facu\\miniconda3\\envs\\projects\\Lib\\site-packages\\fastai\\callback\\fp16.py:47: FutureWarning: `torch.cuda.amp.GradScaler(args...)` is deprecated. Please use `torch.amp.GradScaler('cuda', args...)` instead.\n",
      "  self.autocast,self.learn.scaler,self.scales = autocast(dtype=dtype),GradScaler(**self.kwargs),L()\n",
      "c:\\Users\\Facu\\miniconda3\\envs\\projects\\Lib\\site-packages\\torch\\amp\\grad_scaler.py:132: UserWarning: torch.cuda.amp.GradScaler is enabled, but CUDA is not available.  Disabling.\n",
      "  warnings.warn(\n"
     ]
    },
    {
     "data": {
      "text/html": [
       "\n",
       "<style>\n",
       "    /* Turns off some styling */\n",
       "    progress {\n",
       "        /* gets rid of default border in Firefox and Opera. */\n",
       "        border: none;\n",
       "        /* Needs to be in here for Safari polyfill so background images work as expected. */\n",
       "        background-size: auto;\n",
       "    }\n",
       "    progress:not([value]), progress:not([value])::-webkit-progress-bar {\n",
       "        background: repeating-linear-gradient(45deg, #7e7e7e, #7e7e7e 10px, #5c5c5c 10px, #5c5c5c 20px);\n",
       "    }\n",
       "    .progress-bar-interrupted, .progress-bar-interrupted::-webkit-progress-bar {\n",
       "        background: #F44336;\n",
       "    }\n",
       "</style>\n"
      ],
      "text/plain": [
       "<IPython.core.display.HTML object>"
      ]
     },
     "metadata": {},
     "output_type": "display_data"
    },
    {
     "data": {
      "text/html": [],
      "text/plain": [
       "<IPython.core.display.HTML object>"
      ]
     },
     "metadata": {},
     "output_type": "display_data"
    }
   ],
   "source": [
    "from DLOlympus.fastai.inference import FastAIInferencer\n",
    "\n",
    "# Create inferencer\n",
    "inferencer = FastAIInferencer(model_dir+'/model.pkl')\n",
    "inferencer.init()\n",
    "\n",
    "# Get items\n",
    "df = pd.read_csv(dataset_dir+'/dataset.csv')\n",
    "df = df[df['is_valid']]\n",
    "items = df['file_path'].apply(lambda x: dataset_dir+'/'+x).values\n",
    "\n",
    "# Get predictions\n",
    "raw_preds, decoded_preds, outputs = inferencer.process(items)"
   ]
  },
  {
   "cell_type": "code",
   "execution_count": 9,
   "id": "a249f48b",
   "metadata": {},
   "outputs": [
    {
     "data": {
      "text/plain": [
       "((#1451) ['basset_hound','Maine_Coon','american_bulldog','basset_hound','american_bulldog','american_bulldog','english_setter','american_bulldog','Egyptian_Mau','havanese','american_bulldog','samoyed','saint_bernard','samoyed','shiba_inu','keeshond','saint_bernard','american_bulldog','german_shorthaired','samoyed'...],\n",
       " (#1451) ['dog','dog','dog','dog','dog','dog','dog','dog','dog','dog','dog','dog','dog','dog','dog','dog','dog','dog','dog','dog'...],\n",
       " tensor([[ 64.5689],\n",
       "         [ 97.3826],\n",
       "         [174.8780],\n",
       "         ...,\n",
       "         [113.7295],\n",
       "         [ 63.1303],\n",
       "         [108.8789]]))"
      ]
     },
     "execution_count": 9,
     "metadata": {},
     "output_type": "execute_result"
    }
   ],
   "source": [
    "outputs"
   ]
  },
  {
   "cell_type": "code",
   "execution_count": 16,
   "id": "57b0b651",
   "metadata": {},
   "outputs": [
    {
     "data": {
      "text/plain": [
       "0.307743094802659"
      ]
     },
     "execution_count": 16,
     "metadata": {},
     "output_type": "execute_result"
    }
   ],
   "source": [
    "from sklearn.metrics import f1_score\n",
    "\n",
    "# Check metric\n",
    "f1_score(outputs[0], df['label_breed'].values, average='macro')"
   ]
  },
  {
   "cell_type": "markdown",
   "id": "d8d51c16",
   "metadata": {},
   "source": [
    "# ONNX"
   ]
  },
  {
   "cell_type": "code",
   "execution_count": 17,
   "id": "7a3e1cc8",
   "metadata": {},
   "outputs": [],
   "source": [
    "import albumentations\n",
    "\n",
    "c, h, w = 3, 64, 64 \n",
    "\n",
    "stats_mean = [0.485, 0.456, 0.406]\n",
    "stats_std = [0.229, 0.224, 0.225]\n",
    "\n",
    "transforms = albumentations.Compose([\n",
    "\talbumentations.SmallestMaxSize(max_size=max(h,w)),\n",
    "\talbumentations.CenterCrop(height=h, width=w),\n",
    "\talbumentations.Normalize(stats_mean, stats_std),\n",
    "\talbumentations.ToTensorV2()\n",
    "])"
   ]
  },
  {
   "cell_type": "code",
   "execution_count": 18,
   "id": "62a34ec8",
   "metadata": {},
   "outputs": [],
   "source": [
    "# fastai 2 onnx conversion\n",
    "inferencer.export([c, h, w])"
   ]
  },
  {
   "cell_type": "code",
   "execution_count": 19,
   "id": "801765b9",
   "metadata": {},
   "outputs": [
    {
     "name": "stdout",
     "output_type": "stream",
     "text": [
      "ONNX session created on ['CPUExecutionProvider'].\n"
     ]
    },
    {
     "name": "stderr",
     "output_type": "stream",
     "text": [
      "Processing Batches: 100%|██████████| 6/6 [00:04<00:00,  1.31it/s]\n"
     ]
    }
   ],
   "source": [
    "from DLOlympus.onnx.inference import ONNXInferencer\n",
    "\n",
    "# Create inferencer\n",
    "inferencer = ONNXInferencer('model.onnx')\n",
    "inferencer.init(transforms)\n",
    "\n",
    "onnx_outputs = inferencer.process(items, batch_size=256)"
   ]
  }
 ],
 "metadata": {
  "kernelspec": {
   "display_name": "projects",
   "language": "python",
   "name": "python3"
  },
  "language_info": {
   "codemirror_mode": {
    "name": "ipython",
    "version": 3
   },
   "file_extension": ".py",
   "mimetype": "text/x-python",
   "name": "python",
   "nbconvert_exporter": "python",
   "pygments_lexer": "ipython3",
   "version": "3.12.9"
  }
 },
 "nbformat": 4,
 "nbformat_minor": 5
}
