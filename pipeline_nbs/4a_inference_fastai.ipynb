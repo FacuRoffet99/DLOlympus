{
 "cells": [
  {
   "cell_type": "markdown",
   "id": "3e77b4c9",
   "metadata": {},
   "source": [
    "# Imports"
   ]
  },
  {
   "cell_type": "code",
   "execution_count": 1,
   "id": "bbbe6ab5",
   "metadata": {},
   "outputs": [],
   "source": [
    "import os\n",
    "import wandb\n",
    "import pandas as pd\n",
    "\n",
    "from pathlib import Path\n",
    "\n",
    "import project_config as pc"
   ]
  },
  {
   "cell_type": "markdown",
   "id": "41d9d845",
   "metadata": {},
   "source": [
    "# Retrieve dataset and model"
   ]
  },
  {
   "cell_type": "code",
   "execution_count": null,
   "id": "75c6fc45",
   "metadata": {},
   "outputs": [],
   "source": [
    "# Init run\n",
    "run = wandb.init(project=pc.WANDB_PROJECT,\n",
    "\t\t\t\t entity=pc.WANDB_ENTITY,\n",
    "\t\t\t\t dir=pc.WANDB_LOCAL_LOGS_PATH,\n",
    "\t\t\t\t job_type='inference')\n",
    "\n",
    "# Download latest dataset version (if not already downloaded)\n",
    "dataset_artifact = run.use_artifact(f'{pc.DATASET_ARTIFACT_NAME}:latest')\n",
    "dataset_dir = pc.WANDB_LOCAL_ARTIFACTS_PATH+Path(dataset_artifact._default_root()).stem\n",
    "if not os.path.exists(dataset_dir):\n",
    "\t_ = dataset_artifact.download(root=dataset_dir)\n",
    "\n",
    "# Download latest model version (if not already downloaded)\n",
    "model_artifact = run.use_artifact('model:latest')\n",
    "model_dir = pc.WANDB_LOCAL_ARTIFACTS_PATH+pc.DATASET_ARTIFACT_NAME+'-'+Path(model_artifact._default_root()).stem\n",
    "if not os.path.exists(model_dir):\n",
    "\t_ = model_artifact.download(root=model_dir)\n",
    "\n",
    "# Finish run\n",
    "run.finish()"
   ]
  },
  {
   "cell_type": "markdown",
   "id": "03d71a90",
   "metadata": {},
   "source": [
    "# Inference"
   ]
  },
  {
   "cell_type": "code",
   "execution_count": null,
   "id": "a0d0a8fd",
   "metadata": {},
   "outputs": [],
   "source": [
    "from DLOlympus.fastai.inference import FastAIInferencer\n",
    "\n",
    "# Create inferencer\n",
    "inferencer = FastAIInferencer(model_dir+'/model.pkl')\n",
    "inferencer.init()\n",
    "\n",
    "# Get items\n",
    "df = pd.read_csv(dataset_dir+'/dataset.csv')\n",
    "df = df[df['is_valid']]\n",
    "items = df['file_path'].apply(lambda x: dataset_dir+'/'+x).values\n",
    "\n",
    "# Get predictions\n",
    "raw_preds, decoded_preds, outputs = inferencer.process(items)"
   ]
  },
  {
   "cell_type": "code",
   "execution_count": null,
   "id": "a249f48b",
   "metadata": {},
   "outputs": [],
   "source": [
    "outputs"
   ]
  },
  {
   "cell_type": "code",
   "execution_count": null,
   "id": "57b0b651",
   "metadata": {},
   "outputs": [],
   "source": [
    "from sklearn.metrics import f1_score\n",
    "\n",
    "# Check metric\n",
    "f1_score(outputs[0], df['label_breed'].values, average='macro')"
   ]
  },
  {
   "cell_type": "markdown",
   "id": "d8d51c16",
   "metadata": {},
   "source": [
    "# ONNX"
   ]
  },
  {
   "cell_type": "code",
   "execution_count": 17,
   "id": "7a3e1cc8",
   "metadata": {},
   "outputs": [],
   "source": [
    "import albumentations\n",
    "\n",
    "c, h, w = 3, 64, 64 \n",
    "\n",
    "stats_mean = [0.485, 0.456, 0.406]\n",
    "stats_std = [0.229, 0.224, 0.225]\n",
    "\n",
    "transforms = albumentations.Compose([\n",
    "\talbumentations.SmallestMaxSize(max_size=max(h,w)),\n",
    "\talbumentations.CenterCrop(height=h, width=w),\n",
    "\talbumentations.Normalize(stats_mean, stats_std),\n",
    "\talbumentations.ToTensorV2()\n",
    "])"
   ]
  },
  {
   "cell_type": "code",
   "execution_count": 18,
   "id": "62a34ec8",
   "metadata": {},
   "outputs": [],
   "source": [
    "# fastai 2 onnx conversion\n",
    "inferencer.export([c, h, w])"
   ]
  },
  {
   "cell_type": "code",
   "execution_count": null,
   "id": "801765b9",
   "metadata": {},
   "outputs": [],
   "source": [
    "from DLOlympus.onnx.inference import ONNXInferencer\n",
    "\n",
    "# Create inferencer\n",
    "inferencer = ONNXInferencer('model.onnx')\n",
    "inferencer.init(transforms)\n",
    "\n",
    "onnx_outputs = inferencer.process(items, batch_size=256)"
   ]
  }
 ],
 "metadata": {
  "kernelspec": {
   "display_name": "projects",
   "language": "python",
   "name": "python3"
  },
  "language_info": {
   "codemirror_mode": {
    "name": "ipython",
    "version": 3
   },
   "file_extension": ".py",
   "mimetype": "text/x-python",
   "name": "python",
   "nbconvert_exporter": "python",
   "pygments_lexer": "ipython3",
   "version": "3.12.9"
  }
 },
 "nbformat": 4,
 "nbformat_minor": 5
}
