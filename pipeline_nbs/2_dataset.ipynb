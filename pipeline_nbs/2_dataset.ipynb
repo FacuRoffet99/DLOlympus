{
 "cells": [
  {
   "cell_type": "markdown",
   "id": "ebc8866d",
   "metadata": {},
   "source": [
    "# Imports"
   ]
  },
  {
   "cell_type": "code",
   "execution_count": null,
   "id": "6f038e4b",
   "metadata": {},
   "outputs": [],
   "source": [
    "import os\n",
    "import wandb\n",
    "import tempfile\n",
    "import pandas as pd\n",
    "\n",
    "from pathlib import Path\n",
    "from sklearn.model_selection import StratifiedGroupKFold\n",
    "\n",
    "import project_config as pc"
   ]
  },
  {
   "cell_type": "markdown",
   "id": "a3ec892a",
   "metadata": {},
   "source": [
    "# Retrieve artifact"
   ]
  },
  {
   "cell_type": "code",
   "execution_count": null,
   "id": "407f14c3",
   "metadata": {},
   "outputs": [],
   "source": [
    "# Init run\n",
    "run = wandb.init(project=pc.WANDB_PROJECT, \n",
    "                 entity=pc.WANDB_ENTITY, \n",
    "                 dir=pc.WANDB_LOCAL_LOGS_PATH,\n",
    "                 job_type='data_processing')\n",
    "\n",
    "# Download latest dataset version (if not already downloaded)\n",
    "dataset_artifact = run.use_artifact(f'{pc.DATASET_ARTIFACT_NAME}:latest')\n",
    "dataset_dir = pc.WANDB_LOCAL_ARTIFACTS_PATH+Path(dataset_artifact._default_root()).stem\n",
    "if not os.path.exists(dataset_dir):\n",
    "\t_ = dataset_artifact.download(root=dataset_dir)"
   ]
  },
  {
   "cell_type": "markdown",
   "id": "21e43b7b",
   "metadata": {},
   "source": [
    "# Data processing (filtering, cleaning, etc)"
   ]
  },
  {
   "cell_type": "code",
   "execution_count": null,
   "id": "150fe93b",
   "metadata": {},
   "outputs": [],
   "source": [
    "# Read dataframe\n",
    "df = pd.read_csv(dataset_dir + '/data.csv')\n",
    "\n",
    "# Filter dataframe\n",
    "df = df[df['label_breed'] != 'Abyssinian'].reset_index(drop=True)\n",
    "df"
   ]
  },
  {
   "cell_type": "markdown",
   "id": "5d356643",
   "metadata": {},
   "source": [
    "# Data split"
   ]
  },
  {
   "cell_type": "code",
   "execution_count": 6,
   "id": "be1722ce",
   "metadata": {},
   "outputs": [],
   "source": [
    "# Splits parameters\n",
    "n_splits = 10\n",
    "valid_splits_ids = [0, 1]\n",
    "test_splits_ids = [2]\n",
    "\n",
    "# Select columns for splits\n",
    "X = df['file_path'].values\n",
    "y = df['label_breed'].values\n",
    "groups = df['group'].values\n",
    "\n",
    "# Create splits\n",
    "cv = StratifiedGroupKFold(n_splits=n_splits, shuffle=True, random_state=18)\n",
    "df['split'] = -1\n",
    "for i, (train_idxs, valid_idxs) in enumerate(cv.split(X, y, groups)):\n",
    "\tdf.loc[valid_idxs, ['split']] = i\n",
    "\n",
    "# Assign splits\n",
    "df['is_valid'] = df['split'].apply(lambda x: x in valid_splits_ids)\n",
    "df['is_test'] = df['split'].apply(lambda x: x in test_splits_ids)\n",
    "df.drop(columns=['split'], inplace=True)\n",
    "\n",
    "# Separate dataframe\n",
    "df_train_valid = df[~df['is_test']].drop(columns=['is_test'])\n",
    "df_test = df[df['is_test']].drop(columns=['is_test', 'is_valid'])"
   ]
  },
  {
   "cell_type": "markdown",
   "id": "c1b71119",
   "metadata": {},
   "source": [
    "# Logs"
   ]
  },
  {
   "cell_type": "code",
   "execution_count": null,
   "id": "315787e3",
   "metadata": {},
   "outputs": [],
   "source": [
    "# Create new artifact version\n",
    "new_dataset_artifact = dataset_artifact.new_draft()\n",
    "\n",
    "# Save dataframes in temporary files and add them to the artifact\n",
    "with tempfile.TemporaryDirectory() as temp_dir:\n",
    "\tdf_train_valid.to_csv(temp_dir+'/dataset.csv', index=False)\n",
    "\tnew_dataset_artifact.add_file(temp_dir+'/dataset.csv', 'dataset.csv')\n",
    "\tif len(df_test) > 0:\n",
    "\t\tdf_test.to_csv(temp_dir+'/dataset_test.csv', index=False)\n",
    "\t\tnew_dataset_artifact.add_file(temp_dir+'/dataset_test.csv', 'dataset_test.csv')\n",
    "\n",
    "# Log artifact and finish run\n",
    "run.log_artifact(new_dataset_artifact)\n",
    "run.finish()"
   ]
  }
 ],
 "metadata": {
  "kernelspec": {
   "display_name": "projects",
   "language": "python",
   "name": "python3"
  },
  "language_info": {
   "codemirror_mode": {
    "name": "ipython",
    "version": 3
   },
   "file_extension": ".py",
   "mimetype": "text/x-python",
   "name": "python",
   "nbconvert_exporter": "python",
   "pygments_lexer": "ipython3",
   "version": "3.12.9"
  }
 },
 "nbformat": 4,
 "nbformat_minor": 5
}
