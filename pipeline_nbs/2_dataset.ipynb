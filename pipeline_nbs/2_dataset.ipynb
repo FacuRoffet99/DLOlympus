{
 "cells": [
  {
   "cell_type": "markdown",
   "id": "ebc8866d",
   "metadata": {},
   "source": [
    "# Imports"
   ]
  },
  {
   "cell_type": "code",
   "execution_count": null,
   "id": "6f038e4b",
   "metadata": {},
   "outputs": [],
   "source": [
    "import os\n",
    "import wandb\n",
    "import tempfile\n",
    "import pandas as pd\n",
    "\n",
    "from pathlib import Path\n",
    "from sklearn.model_selection import StratifiedGroupKFold\n",
    "\n",
    "import project_config as pc"
   ]
  },
  {
   "cell_type": "markdown",
   "id": "a3ec892a",
   "metadata": {},
   "source": [
    "# Retrieve artifact"
   ]
  },
  {
   "cell_type": "code",
   "execution_count": null,
   "id": "407f14c3",
   "metadata": {},
   "outputs": [
    {
     "name": "stderr",
     "output_type": "stream",
     "text": [
      "\u001b[34m\u001b[1mwandb\u001b[0m: Currently logged in as: \u001b[33mfacuroffet99\u001b[0m to \u001b[32mhttps://api.wandb.ai\u001b[0m. Use \u001b[1m`wandb login --relogin`\u001b[0m to force relogin\n"
     ]
    },
    {
     "data": {
      "text/html": [
       "Tracking run with wandb version 0.21.1"
      ],
      "text/plain": [
       "<IPython.core.display.HTML object>"
      ]
     },
     "metadata": {},
     "output_type": "display_data"
    },
    {
     "data": {
      "text/html": [
       "Run data is saved locally in <code>C:/Users/Facu/Documents/wandb/logs/wandb\\run-20250821_143351-sak2teia</code>"
      ],
      "text/plain": [
       "<IPython.core.display.HTML object>"
      ]
     },
     "metadata": {},
     "output_type": "display_data"
    },
    {
     "data": {
      "text/html": [
       "Syncing run <strong><a href='https://wandb.ai/facuroffet99/DLOlympus/runs/sak2teia' target=\"_blank\">atomic-butterfly-5</a></strong> to <a href='https://wandb.ai/facuroffet99/DLOlympus' target=\"_blank\">Weights & Biases</a> (<a href='https://wandb.me/developer-guide' target=\"_blank\">docs</a>)<br>"
      ],
      "text/plain": [
       "<IPython.core.display.HTML object>"
      ]
     },
     "metadata": {},
     "output_type": "display_data"
    },
    {
     "data": {
      "text/html": [
       " View project at <a href='https://wandb.ai/facuroffet99/DLOlympus' target=\"_blank\">https://wandb.ai/facuroffet99/DLOlympus</a>"
      ],
      "text/plain": [
       "<IPython.core.display.HTML object>"
      ]
     },
     "metadata": {},
     "output_type": "display_data"
    },
    {
     "data": {
      "text/html": [
       " View run at <a href='https://wandb.ai/facuroffet99/DLOlympus/runs/sak2teia' target=\"_blank\">https://wandb.ai/facuroffet99/DLOlympus/runs/sak2teia</a>"
      ],
      "text/plain": [
       "<IPython.core.display.HTML object>"
      ]
     },
     "metadata": {},
     "output_type": "display_data"
    },
    {
     "name": "stderr",
     "output_type": "stream",
     "text": [
      "\u001b[34m\u001b[1mwandb\u001b[0m: Downloading large artifact oxford-iiit-pet:latest, 757.96MB. 7392 files... \n",
      "\u001b[34m\u001b[1mwandb\u001b[0m:   7392 of 7392 files downloaded.  \n",
      "Done. 0:0:20.9 (36.3MB/s)\n"
     ]
    }
   ],
   "source": [
    "# Init run\n",
    "run = wandb.init(project=pc.WANDB_PROJECT, \n",
    "                 entity=pc.WANDB_ENTITY, \n",
    "                 dir=pc.WANDB_LOCAL_LOGS_PATH,\n",
    "                 job_type='data_processing')\n",
    "\n",
    "# Download latest dataset version (if not already downloaded)\n",
    "dataset_artifact = run.use_artifact(f'{pc.DATASET_ARTIFACT_NAME}:latest')\n",
    "dataset_dir = pc.WANDB_LOCAL_ARTIFACTS_PATH+Path(dataset_artifact._default_root()).stem\n",
    "if not os.path.exists(dataset_dir):\n",
    "\t_ = dataset_artifact.download(root=dataset_dir)"
   ]
  },
  {
   "cell_type": "markdown",
   "id": "21e43b7b",
   "metadata": {},
   "source": [
    "# Data processing (filtering, cleaning, etc)"
   ]
  },
  {
   "cell_type": "code",
   "execution_count": 4,
   "id": "150fe93b",
   "metadata": {},
   "outputs": [
    {
     "data": {
      "application/vnd.microsoft.datawrangler.viewer.v0+json": {
       "columns": [
        {
         "name": "index",
         "rawType": "int64",
         "type": "integer"
        },
        {
         "name": "file_path",
         "rawType": "object",
         "type": "string"
        },
        {
         "name": "group",
         "rawType": "int64",
         "type": "integer"
        },
        {
         "name": "label_breed",
         "rawType": "object",
         "type": "string"
        },
        {
         "name": "label_animal",
         "rawType": "object",
         "type": "string"
        }
       ],
       "ref": "de50e7bf-f9c9-4304-8237-165a3a65dea6",
       "rows": [
        [
         "0",
         "images/american_bulldog_10.jpg",
         "10",
         "american_bulldog",
         "dog"
        ],
        [
         "1",
         "images/american_bulldog_100.jpg",
         "100",
         "american_bulldog",
         "dog"
        ],
        [
         "2",
         "images/american_bulldog_101.jpg",
         "101",
         "american_bulldog",
         "dog"
        ],
        [
         "3",
         "images/american_bulldog_102.jpg",
         "102",
         "american_bulldog",
         "dog"
        ],
        [
         "4",
         "images/american_bulldog_103.jpg",
         "103",
         "american_bulldog",
         "dog"
        ],
        [
         "5",
         "images/american_bulldog_104.jpg",
         "104",
         "american_bulldog",
         "dog"
        ],
        [
         "6",
         "images/american_bulldog_105.jpg",
         "105",
         "american_bulldog",
         "dog"
        ],
        [
         "7",
         "images/american_bulldog_106.jpg",
         "106",
         "american_bulldog",
         "dog"
        ],
        [
         "8",
         "images/american_bulldog_107.jpg",
         "107",
         "american_bulldog",
         "dog"
        ],
        [
         "9",
         "images/american_bulldog_108.jpg",
         "108",
         "american_bulldog",
         "dog"
        ],
        [
         "10",
         "images/american_bulldog_109.jpg",
         "109",
         "american_bulldog",
         "dog"
        ],
        [
         "11",
         "images/american_bulldog_11.jpg",
         "11",
         "american_bulldog",
         "dog"
        ],
        [
         "12",
         "images/american_bulldog_110.jpg",
         "110",
         "american_bulldog",
         "dog"
        ],
        [
         "13",
         "images/american_bulldog_111.jpg",
         "111",
         "american_bulldog",
         "dog"
        ],
        [
         "14",
         "images/american_bulldog_112.jpg",
         "112",
         "american_bulldog",
         "dog"
        ],
        [
         "15",
         "images/american_bulldog_113.jpg",
         "113",
         "american_bulldog",
         "dog"
        ],
        [
         "16",
         "images/american_bulldog_114.jpg",
         "114",
         "american_bulldog",
         "dog"
        ],
        [
         "17",
         "images/american_bulldog_115.jpg",
         "115",
         "american_bulldog",
         "dog"
        ],
        [
         "18",
         "images/american_bulldog_116.jpg",
         "116",
         "american_bulldog",
         "dog"
        ],
        [
         "19",
         "images/american_bulldog_117.jpg",
         "117",
         "american_bulldog",
         "dog"
        ],
        [
         "20",
         "images/american_bulldog_118.jpg",
         "118",
         "american_bulldog",
         "dog"
        ],
        [
         "21",
         "images/american_bulldog_119.jpg",
         "119",
         "american_bulldog",
         "dog"
        ],
        [
         "22",
         "images/american_bulldog_12.jpg",
         "12",
         "american_bulldog",
         "dog"
        ],
        [
         "23",
         "images/american_bulldog_120.jpg",
         "120",
         "american_bulldog",
         "dog"
        ],
        [
         "24",
         "images/american_bulldog_121.jpg",
         "121",
         "american_bulldog",
         "dog"
        ],
        [
         "25",
         "images/american_bulldog_122.jpg",
         "122",
         "american_bulldog",
         "dog"
        ],
        [
         "26",
         "images/american_bulldog_123.jpg",
         "123",
         "american_bulldog",
         "dog"
        ],
        [
         "27",
         "images/american_bulldog_124.jpg",
         "124",
         "american_bulldog",
         "dog"
        ],
        [
         "28",
         "images/american_bulldog_125.jpg",
         "125",
         "american_bulldog",
         "dog"
        ],
        [
         "29",
         "images/american_bulldog_126.jpg",
         "126",
         "american_bulldog",
         "dog"
        ],
        [
         "30",
         "images/american_bulldog_127.jpg",
         "127",
         "american_bulldog",
         "dog"
        ],
        [
         "31",
         "images/american_bulldog_128.jpg",
         "128",
         "american_bulldog",
         "dog"
        ],
        [
         "32",
         "images/american_bulldog_129.jpg",
         "129",
         "american_bulldog",
         "dog"
        ],
        [
         "33",
         "images/american_bulldog_13.jpg",
         "13",
         "american_bulldog",
         "dog"
        ],
        [
         "34",
         "images/american_bulldog_130.jpg",
         "130",
         "american_bulldog",
         "dog"
        ],
        [
         "35",
         "images/american_bulldog_131.jpg",
         "131",
         "american_bulldog",
         "dog"
        ],
        [
         "36",
         "images/american_bulldog_132.jpg",
         "132",
         "american_bulldog",
         "dog"
        ],
        [
         "37",
         "images/american_bulldog_133.jpg",
         "133",
         "american_bulldog",
         "dog"
        ],
        [
         "38",
         "images/american_bulldog_134.jpg",
         "134",
         "american_bulldog",
         "dog"
        ],
        [
         "39",
         "images/american_bulldog_135.jpg",
         "135",
         "american_bulldog",
         "dog"
        ],
        [
         "40",
         "images/american_bulldog_136.jpg",
         "136",
         "american_bulldog",
         "dog"
        ],
        [
         "41",
         "images/american_bulldog_137.jpg",
         "137",
         "american_bulldog",
         "dog"
        ],
        [
         "42",
         "images/american_bulldog_138.jpg",
         "138",
         "american_bulldog",
         "dog"
        ],
        [
         "43",
         "images/american_bulldog_139.jpg",
         "139",
         "american_bulldog",
         "dog"
        ],
        [
         "44",
         "images/american_bulldog_14.jpg",
         "14",
         "american_bulldog",
         "dog"
        ],
        [
         "45",
         "images/american_bulldog_140.jpg",
         "140",
         "american_bulldog",
         "dog"
        ],
        [
         "46",
         "images/american_bulldog_141.jpg",
         "141",
         "american_bulldog",
         "dog"
        ],
        [
         "47",
         "images/american_bulldog_142.jpg",
         "142",
         "american_bulldog",
         "dog"
        ],
        [
         "48",
         "images/american_bulldog_143.jpg",
         "143",
         "american_bulldog",
         "dog"
        ],
        [
         "49",
         "images/american_bulldog_144.jpg",
         "144",
         "american_bulldog",
         "dog"
        ]
       ],
       "shape": {
        "columns": 4,
        "rows": 7190
       }
      },
      "text/html": [
       "<div>\n",
       "<style scoped>\n",
       "    .dataframe tbody tr th:only-of-type {\n",
       "        vertical-align: middle;\n",
       "    }\n",
       "\n",
       "    .dataframe tbody tr th {\n",
       "        vertical-align: top;\n",
       "    }\n",
       "\n",
       "    .dataframe thead th {\n",
       "        text-align: right;\n",
       "    }\n",
       "</style>\n",
       "<table border=\"1\" class=\"dataframe\">\n",
       "  <thead>\n",
       "    <tr style=\"text-align: right;\">\n",
       "      <th></th>\n",
       "      <th>file_path</th>\n",
       "      <th>group</th>\n",
       "      <th>label_breed</th>\n",
       "      <th>label_animal</th>\n",
       "    </tr>\n",
       "  </thead>\n",
       "  <tbody>\n",
       "    <tr>\n",
       "      <th>0</th>\n",
       "      <td>images/american_bulldog_10.jpg</td>\n",
       "      <td>10</td>\n",
       "      <td>american_bulldog</td>\n",
       "      <td>dog</td>\n",
       "    </tr>\n",
       "    <tr>\n",
       "      <th>1</th>\n",
       "      <td>images/american_bulldog_100.jpg</td>\n",
       "      <td>100</td>\n",
       "      <td>american_bulldog</td>\n",
       "      <td>dog</td>\n",
       "    </tr>\n",
       "    <tr>\n",
       "      <th>2</th>\n",
       "      <td>images/american_bulldog_101.jpg</td>\n",
       "      <td>101</td>\n",
       "      <td>american_bulldog</td>\n",
       "      <td>dog</td>\n",
       "    </tr>\n",
       "    <tr>\n",
       "      <th>3</th>\n",
       "      <td>images/american_bulldog_102.jpg</td>\n",
       "      <td>102</td>\n",
       "      <td>american_bulldog</td>\n",
       "      <td>dog</td>\n",
       "    </tr>\n",
       "    <tr>\n",
       "      <th>4</th>\n",
       "      <td>images/american_bulldog_103.jpg</td>\n",
       "      <td>103</td>\n",
       "      <td>american_bulldog</td>\n",
       "      <td>dog</td>\n",
       "    </tr>\n",
       "    <tr>\n",
       "      <th>...</th>\n",
       "      <td>...</td>\n",
       "      <td>...</td>\n",
       "      <td>...</td>\n",
       "      <td>...</td>\n",
       "    </tr>\n",
       "    <tr>\n",
       "      <th>7185</th>\n",
       "      <td>images/yorkshire_terrier_95.jpg</td>\n",
       "      <td>95</td>\n",
       "      <td>yorkshire_terrier</td>\n",
       "      <td>dog</td>\n",
       "    </tr>\n",
       "    <tr>\n",
       "      <th>7186</th>\n",
       "      <td>images/yorkshire_terrier_96.jpg</td>\n",
       "      <td>96</td>\n",
       "      <td>yorkshire_terrier</td>\n",
       "      <td>dog</td>\n",
       "    </tr>\n",
       "    <tr>\n",
       "      <th>7187</th>\n",
       "      <td>images/yorkshire_terrier_97.jpg</td>\n",
       "      <td>97</td>\n",
       "      <td>yorkshire_terrier</td>\n",
       "      <td>dog</td>\n",
       "    </tr>\n",
       "    <tr>\n",
       "      <th>7188</th>\n",
       "      <td>images/yorkshire_terrier_98.jpg</td>\n",
       "      <td>98</td>\n",
       "      <td>yorkshire_terrier</td>\n",
       "      <td>dog</td>\n",
       "    </tr>\n",
       "    <tr>\n",
       "      <th>7189</th>\n",
       "      <td>images/yorkshire_terrier_99.jpg</td>\n",
       "      <td>99</td>\n",
       "      <td>yorkshire_terrier</td>\n",
       "      <td>dog</td>\n",
       "    </tr>\n",
       "  </tbody>\n",
       "</table>\n",
       "<p>7190 rows × 4 columns</p>\n",
       "</div>"
      ],
      "text/plain": [
       "                            file_path  group        label_breed label_animal\n",
       "0      images/american_bulldog_10.jpg     10   american_bulldog          dog\n",
       "1     images/american_bulldog_100.jpg    100   american_bulldog          dog\n",
       "2     images/american_bulldog_101.jpg    101   american_bulldog          dog\n",
       "3     images/american_bulldog_102.jpg    102   american_bulldog          dog\n",
       "4     images/american_bulldog_103.jpg    103   american_bulldog          dog\n",
       "...                               ...    ...                ...          ...\n",
       "7185  images/yorkshire_terrier_95.jpg     95  yorkshire_terrier          dog\n",
       "7186  images/yorkshire_terrier_96.jpg     96  yorkshire_terrier          dog\n",
       "7187  images/yorkshire_terrier_97.jpg     97  yorkshire_terrier          dog\n",
       "7188  images/yorkshire_terrier_98.jpg     98  yorkshire_terrier          dog\n",
       "7189  images/yorkshire_terrier_99.jpg     99  yorkshire_terrier          dog\n",
       "\n",
       "[7190 rows x 4 columns]"
      ]
     },
     "execution_count": 4,
     "metadata": {},
     "output_type": "execute_result"
    }
   ],
   "source": [
    "# Read dataframe\n",
    "df = pd.read_csv(dataset_dir + '/data.csv')\n",
    "\n",
    "# Filter dataframe\n",
    "df = df[df['label_breed'] != 'Abyssinian'].reset_index(drop=True)\n",
    "df"
   ]
  },
  {
   "cell_type": "markdown",
   "id": "5d356643",
   "metadata": {},
   "source": [
    "# Data split"
   ]
  },
  {
   "cell_type": "code",
   "execution_count": 6,
   "id": "be1722ce",
   "metadata": {},
   "outputs": [],
   "source": [
    "# Splits parameters\n",
    "n_splits = 10\n",
    "valid_splits_ids = [0, 1]\n",
    "test_splits_ids = [2]\n",
    "\n",
    "# Select columns for splits\n",
    "X = df['file_path'].values\n",
    "y = df['label_breed'].values\n",
    "groups = df['group'].values\n",
    "\n",
    "# Create splits\n",
    "cv = StratifiedGroupKFold(n_splits=n_splits, shuffle=True, random_state=18)\n",
    "df['split'] = -1\n",
    "for i, (train_idxs, valid_idxs) in enumerate(cv.split(X, y, groups)):\n",
    "\tdf.loc[valid_idxs, ['split']] = i\n",
    "\n",
    "# Assign splits\n",
    "df['is_valid'] = df['split'].apply(lambda x: x in valid_splits_ids)\n",
    "df['is_test'] = df['split'].apply(lambda x: x in test_splits_ids)\n",
    "df.drop(columns=['split'], inplace=True)\n",
    "\n",
    "# Separate dataframe\n",
    "df_train_valid = df[~df['is_test']].drop(columns=['is_test'])\n",
    "df_test = df[df['is_test']].drop(columns=['is_test', 'is_valid'])"
   ]
  },
  {
   "cell_type": "markdown",
   "id": "c1b71119",
   "metadata": {},
   "source": [
    "# Logs"
   ]
  },
  {
   "cell_type": "code",
   "execution_count": 7,
   "id": "315787e3",
   "metadata": {},
   "outputs": [
    {
     "data": {
      "text/html": [],
      "text/plain": [
       "<IPython.core.display.HTML object>"
      ]
     },
     "metadata": {},
     "output_type": "display_data"
    },
    {
     "data": {
      "text/html": [
       " View run <strong style=\"color:#cdcd00\">atomic-butterfly-5</strong> at: <a href='https://wandb.ai/facuroffet99/DLOlympus/runs/sak2teia' target=\"_blank\">https://wandb.ai/facuroffet99/DLOlympus/runs/sak2teia</a><br> View project at: <a href='https://wandb.ai/facuroffet99/DLOlympus' target=\"_blank\">https://wandb.ai/facuroffet99/DLOlympus</a><br>Synced 5 W&B file(s), 0 media file(s), 3 artifact file(s) and 0 other file(s)"
      ],
      "text/plain": [
       "<IPython.core.display.HTML object>"
      ]
     },
     "metadata": {},
     "output_type": "display_data"
    },
    {
     "data": {
      "text/html": [
       "Find logs at: <code>C:/Users/Facu/Documents/wandb/logs/wandb\\run-20250821_143351-sak2teia\\logs</code>"
      ],
      "text/plain": [
       "<IPython.core.display.HTML object>"
      ]
     },
     "metadata": {},
     "output_type": "display_data"
    }
   ],
   "source": [
    "# Create new artifact version\n",
    "new_dataset_artifact = dataset_artifact.new_draft()\n",
    "\n",
    "# Save dataframes in temporary files and add them to the artifact\n",
    "with tempfile.TemporaryDirectory() as temp_dir:\n",
    "\tdf_train_valid.to_csv(temp_dir+'/dataset.csv', index=False)\n",
    "\tnew_dataset_artifact.add_file(temp_dir+'/dataset.csv', 'dataset.csv')\n",
    "\tif len(df_test) > 0:\n",
    "\t\tdf_test.to_csv(temp_dir+'/dataset_test.csv', index=False)\n",
    "\t\tnew_dataset_artifact.add_file(temp_dir+'/dataset_test.csv', 'dataset_test.csv')\n",
    "\n",
    "# Log artifact and finish run\n",
    "run.log_artifact(new_dataset_artifact)\n",
    "run.finish()"
   ]
  }
 ],
 "metadata": {
  "kernelspec": {
   "display_name": "projects",
   "language": "python",
   "name": "python3"
  },
  "language_info": {
   "codemirror_mode": {
    "name": "ipython",
    "version": 3
   },
   "file_extension": ".py",
   "mimetype": "text/x-python",
   "name": "python",
   "nbconvert_exporter": "python",
   "pygments_lexer": "ipython3",
   "version": "3.12.9"
  }
 },
 "nbformat": 4,
 "nbformat_minor": 5
}
