{
 "cells": [
  {
   "cell_type": "markdown",
   "metadata": {
    "id": "rAk6Zt5_84Xi"
   },
   "source": [
    "# Imports"
   ]
  },
  {
   "cell_type": "code",
   "execution_count": null,
   "metadata": {
    "executionInfo": {
     "elapsed": 17,
     "status": "ok",
     "timestamp": 1756322665675,
     "user": {
      "displayName": "Facundo Roffet",
      "userId": "11318623619644518996"
     },
     "user_tz": 180
    },
    "id": "S1uQm8Un-6Fj"
   },
   "outputs": [],
   "source": [
    "import os\n",
    "import cv2\n",
    "import stat\n",
    "import dill\n",
    "import wandb\n",
    "import shutil\n",
    "import tempfile\n",
    "import pandas as pd\n",
    "\n",
    "from pathlib import Path\n",
    "from fastai.torch_core import set_seed\n",
    "from fastai.learner import Learner\n",
    "\n",
    "import project_config as pc\n",
    "import evaluation_config as ec\n",
    "from training_config import config as tc\n",
    "\n",
    "cv2.setNumThreads(0)"
   ]
  },
  {
   "cell_type": "markdown",
   "metadata": {
    "id": "R7lgcECp84Xn"
   },
   "source": [
    "# Retrieve dataset"
   ]
  },
  {
   "cell_type": "code",
   "execution_count": null,
   "metadata": {
    "colab": {
     "base_uri": "https://localhost:8080/",
     "height": 347
    },
    "executionInfo": {
     "elapsed": 166280,
     "status": "ok",
     "timestamp": 1756322837410,
     "user": {
      "displayName": "Facundo Roffet",
      "userId": "11318623619644518996"
     },
     "user_tz": 180
    },
    "id": "WYEjsTjB84Xn",
    "outputId": "5ebb7fde-f7fe-4625-b99b-1e04431b0b1f"
   },
   "outputs": [],
   "source": [
    "# Init run\n",
    "run = wandb.init(project=pc.WANDB_PROJECT,\n",
    "\t\t\t\t entity=pc.WANDB_ENTITY,\n",
    "\t\t\t\t dir=pc.WANDB_LOCAL_LOGS_PATH,\n",
    "\t\t\t\t job_type='model_training',\n",
    "\t\t\t\t config=tc)\n",
    "\n",
    "# Download latest dataset version (if not already downloaded)\n",
    "dataset_artifact = run.use_artifact(f'{pc.DATASET_ARTIFACT_NAME}:latest')\n",
    "dataset_dir = pc.WANDB_LOCAL_ARTIFACTS_PATH+Path(dataset_artifact._default_root()).stem\n",
    "if not os.path.exists(dataset_dir):\n",
    "\t_ = dataset_artifact.download(root=dataset_dir)"
   ]
  },
  {
   "cell_type": "code",
   "execution_count": null,
   "metadata": {
    "colab": {
     "base_uri": "https://localhost:8080/",
     "height": 424
    },
    "executionInfo": {
     "elapsed": 211,
     "status": "ok",
     "timestamp": 1756322842289,
     "user": {
      "displayName": "Facundo Roffet",
      "userId": "11318623619644518996"
     },
     "user_tz": 180
    },
    "id": "_HGdMVv184Xo",
    "outputId": "4b3c05ef-dfa0-446f-84f2-954d7112d33f"
   },
   "outputs": [],
   "source": [
    "# Read dataframe and add full file paths\n",
    "df = pd.read_csv(dataset_dir+'/dataset.csv')\n",
    "df['file_path'] = df['file_path'].apply(lambda x: dataset_dir+'/'+x)\n",
    "df"
   ]
  },
  {
   "cell_type": "markdown",
   "metadata": {
    "id": "5k47AU3984Xo"
   },
   "source": [
    "# Data setup"
   ]
  },
  {
   "cell_type": "code",
   "execution_count": null,
   "metadata": {
    "colab": {
     "base_uri": "https://localhost:8080/"
    },
    "executionInfo": {
     "elapsed": 939,
     "status": "ok",
     "timestamp": 1756322848831,
     "user": {
      "displayName": "Facundo Roffet",
      "userId": "11318623619644518996"
     },
     "user_tz": 180
    },
    "id": "3kTzug3_84Xp",
    "outputId": "da35a5bc-001e-488d-d031-f72c05b84638"
   },
   "outputs": [],
   "source": [
    "set_seed(tc.SEED, reproducible=True)\n",
    "\n",
    "# Datablock\n",
    "block = tc.DATABLOCK\n",
    "\n",
    "# Dataloaders\n",
    "dls = block.dataloaders(df, bs=tc.BS, shuffle=True)\n",
    "dls.rng.seed(tc.SEED)\n",
    "\n",
    "# Sanity check\n",
    "n_out = dls.c\n",
    "print('Number of outputs: ', n_out)"
   ]
  },
  {
   "cell_type": "code",
   "execution_count": null,
   "metadata": {
    "colab": {
     "base_uri": "https://localhost:8080/",
     "height": 983
    },
    "executionInfo": {
     "elapsed": 2260,
     "status": "ok",
     "timestamp": 1756322853430,
     "user": {
      "displayName": "Facundo Roffet",
      "userId": "11318623619644518996"
     },
     "user_tz": 180
    },
    "id": "88jiaY0384Xp",
    "outputId": "7b1e7391-e7aa-497a-a36d-ffb63c32456f"
   },
   "outputs": [],
   "source": [
    "# Show train batch\n",
    "dls.train.show_batch(max_n=16, figsize=(15,12))"
   ]
  },
  {
   "cell_type": "code",
   "execution_count": null,
   "metadata": {
    "colab": {
     "base_uri": "https://localhost:8080/",
     "height": 983
    },
    "executionInfo": {
     "elapsed": 1596,
     "status": "ok",
     "timestamp": 1756322887956,
     "user": {
      "displayName": "Facundo Roffet",
      "userId": "11318623619644518996"
     },
     "user_tz": 180
    },
    "id": "G1VDrsy184Xp",
    "outputId": "1c512361-fbcd-4500-bfc6-bc5572aee79a"
   },
   "outputs": [],
   "source": [
    "# Show transforms\n",
    "dls.train.show_batch(max_n=16, unique=True, figsize=(15,12))"
   ]
  },
  {
   "cell_type": "code",
   "execution_count": null,
   "metadata": {
    "colab": {
     "base_uri": "https://localhost:8080/",
     "height": 983
    },
    "executionInfo": {
     "elapsed": 1139,
     "status": "ok",
     "timestamp": 1756322891817,
     "user": {
      "displayName": "Facundo Roffet",
      "userId": "11318623619644518996"
     },
     "user_tz": 180
    },
    "id": "wNZOsa8s84Xp",
    "outputId": "89099b7f-cc83-44cb-e269-6d6a72d881a2"
   },
   "outputs": [],
   "source": [
    "# Show valid batch\n",
    "dls.valid.show_batch(max_n=16, figsize=(15,12))"
   ]
  },
  {
   "cell_type": "markdown",
   "metadata": {
    "id": "n3wgyOEb84Xp"
   },
   "source": [
    "# Model setup"
   ]
  },
  {
   "cell_type": "code",
   "execution_count": null,
   "metadata": {
    "executionInfo": {
     "elapsed": 39,
     "status": "ok",
     "timestamp": 1756323149354,
     "user": {
      "displayName": "Facundo Roffet",
      "userId": "11318623619644518996"
     },
     "user_tz": 180
    },
    "id": "fp1NAG-v84Xp"
   },
   "outputs": [],
   "source": [
    "from DLOlympus.fastai.imbalanced import get_class_weights, set_controlled_oversampling\n",
    "\n",
    "# Apply class weights configuration\n",
    "for i,c in enumerate(tc.CLASS_WEIGHTS_CONFIGS):\n",
    "\tif c is not None:\n",
    "\t\ttc.LOSS.loss_functions[i].weights = get_class_weights(dls, **c)\n",
    "\n",
    "# Create and freeze learner\n",
    "learn = Learner(dls=dls,\n",
    "\t\t\t\tmodel=tc.MODEL,\n",
    "\t\t\t\tloss_func=tc.LOSS,\n",
    "\t\t\t\topt_func=tc.OPTIMIZER,\n",
    "\t\t\t\tsplitter=tc.SPLITTER,\n",
    "\t\t\t\tmetrics=tc.METRICS,\n",
    "\t\t\t\twd=tc.WD,).to_fp16()\n",
    "if tc.PRETRAINED: \n",
    "\tlearn.freeze()\n",
    "\n",
    "# Apply oversampling configuration\n",
    "if tc.OVERSAMPLING_LABEL is not None:\n",
    "\tlearn = set_controlled_oversampling(learn, col=tc.OVERSAMPLING_LABEL)"
   ]
  },
  {
   "cell_type": "markdown",
   "metadata": {
    "id": "pAUDSUUQ84Xq"
   },
   "source": [
    "# Training"
   ]
  },
  {
   "cell_type": "code",
   "execution_count": null,
   "metadata": {
    "colab": {
     "base_uri": "https://localhost:8080/",
     "height": 451
    },
    "executionInfo": {
     "elapsed": 1149,
     "status": "error",
     "timestamp": 1756323408307,
     "user": {
      "displayName": "Facundo Roffet",
      "userId": "11318623619644518996"
     },
     "user_tz": 180
    },
    "id": "hhIaiH1984Xq",
    "outputId": "48be3713-908b-4d25-f3d8-663256647389"
   },
   "outputs": [],
   "source": [
    "# Find LR\n",
    "learn.lr_find()"
   ]
  },
  {
   "cell_type": "code",
   "execution_count": 10,
   "metadata": {
    "id": "NJDRz3mO84Xq"
   },
   "outputs": [],
   "source": [
    "# Set LR\n",
    "tc.LR = 1e-3"
   ]
  },
  {
   "cell_type": "code",
   "execution_count": null,
   "metadata": {
    "id": "XPE6opxC84Xq",
    "outputId": "7346561a-8cec-40ce-a4b9-fbd49ebd7ba6"
   },
   "outputs": [],
   "source": [
    "# Train\n",
    "learn.unfreeze()\n",
    "learn.fit_one_cycle(tc.EPOCHS, slice(tc.LR/100, tc.LR), pct_start=0.3, div=5.0, cbs=tc.CALLBACKS)"
   ]
  },
  {
   "cell_type": "markdown",
   "metadata": {
    "id": "SEJ3Bj_s84Xq"
   },
   "source": [
    "# Evaluation"
   ]
  },
  {
   "cell_type": "code",
   "execution_count": null,
   "metadata": {},
   "outputs": [],
   "source": [
    "# Create predictions dataframes and confusion matrices\n",
    "valid_preds = ec.create_predictions_df(learn, learn.dls.valid, dataset_dir+'/')\n",
    "train_preds = ec.create_predictions_df(learn, learn.dls.train, dataset_dir+'/')\n",
    "plt_cms, wandb_cms, names_cms = ec.create_confusion_matrices(valid_preds, dls.vocab)"
   ]
  },
  {
   "cell_type": "markdown",
   "metadata": {},
   "source": [
    "# Logs"
   ]
  },
  {
   "cell_type": "code",
   "execution_count": 13,
   "metadata": {},
   "outputs": [],
   "source": [
    "def remove_readonly(func, path, _):\n",
    "    \"Clear the readonly bit and reattempt the removal\"\n",
    "    os.chmod(path, stat.S_IWRITE)\n",
    "    func(path)"
   ]
  },
  {
   "cell_type": "code",
   "execution_count": null,
   "metadata": {},
   "outputs": [],
   "source": [
    "# Log final metrics\n",
    "names = [m.name for m in learn.metrics]\n",
    "values = learn.validate()[1:]\n",
    "for n,v in zip(names,values):\n",
    "    run.summary[n] = v\n",
    "\n",
    "# Log model\n",
    "learn.export('models/model.pkl', pickle_module=dill)\n",
    "run.log_model('models/model.pkl', 'model')\n",
    "shutil.rmtree('models', onexc=remove_readonly)\n",
    "\n",
    "# Log wandb confusion matrices\n",
    "for cm, n in zip(wandb_cms, names_cms):\n",
    "\twandb.log({n: cm})"
   ]
  },
  {
   "cell_type": "code",
   "execution_count": null,
   "metadata": {},
   "outputs": [],
   "source": [
    "# Create evaluation artifact\n",
    "evaluation_artifact = wandb.Artifact('evaluation', type='evaluation')\n",
    "\n",
    "# Save dataframes and plt confusion matrices to temporary files and add them to the artifact\n",
    "with tempfile.TemporaryDirectory() as temp_dir:\n",
    "\tvalid_preds.to_csv(temp_dir+'/valid_preds.csv', index=False)\n",
    "\ttrain_preds.to_csv(temp_dir+'/train_preds.csv', index=False)\n",
    "\tevaluation_artifact.add_file(temp_dir+'/valid_preds.csv', name='valid_preds.csv')\n",
    "\tevaluation_artifact.add_file(temp_dir+'/train_preds.csv', name='train_preds.csv')\n",
    "\tfor cm, n in zip(plt_cms, names_cms):\n",
    "\t\tcm.savefig(temp_dir+f'/{n}.png', bbox_inches='tight')\n",
    "\t\tevaluation_artifact.add_file(temp_dir+f'/{n}.png', name=f'{n}.png')\n",
    "\n",
    "# Create and log wandb table referencing local files\n",
    "table = wandb.Table(columns=['image']+list(valid_preds.columns.values))\n",
    "for _, row in valid_preds.iterrows():\n",
    "\tlocal_path = dataset_dir+'/'+ row['file_path']\n",
    "\ttable.add_data(\n",
    "\t\twandb.Image(local_path),\n",
    "\t\t*row.values\n",
    "\t)\n",
    "evaluation_artifact.add(table, 'evaluation_table')\n",
    "\n",
    "# Log artifact and finish run\n",
    "run.log_artifact(evaluation_artifact)\n",
    "run.finish()"
   ]
  }
 ],
 "metadata": {
  "accelerator": "GPU",
  "colab": {
   "gpuType": "T4",
   "provenance": []
  },
  "kernelspec": {
   "display_name": "projects",
   "language": "python",
   "name": "python3"
  },
  "language_info": {
   "codemirror_mode": {
    "name": "ipython",
    "version": 3
   },
   "file_extension": ".py",
   "mimetype": "text/x-python",
   "name": "python",
   "nbconvert_exporter": "python",
   "pygments_lexer": "ipython3",
   "version": "3.12.9"
  }
 },
 "nbformat": 4,
 "nbformat_minor": 0
}
